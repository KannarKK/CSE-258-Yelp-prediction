{
 "cells": [
  {
   "cell_type": "markdown",
   "metadata": {},
   "source": [
    "### Bayesian Prediction Model"
   ]
  },
  {
   "cell_type": "code",
   "execution_count": 1,
   "metadata": {
    "collapsed": true
   },
   "outputs": [],
   "source": [
    "import numpy as np\n",
    "import scipy\n",
    "import random\n",
    "import urllib\n",
    "import matplotlib.pyplot as plt\n",
    "import json"
   ]
  },
  {
   "cell_type": "code",
   "execution_count": 2,
   "metadata": {
    "collapsed": false
   },
   "outputs": [],
   "source": [
    "random.seed(0) #set an initial seed so that we can reproduce consistently"
   ]
  },
  {
   "cell_type": "code",
   "execution_count": 3,
   "metadata": {
    "collapsed": false
   },
   "outputs": [],
   "source": [
    "def readJSONfromFile(fname):\n",
    "    yelp_data = []\n",
    "    with open(fname) as f:\n",
    "        for line in f:\n",
    "            yelp_data.append(json.loads(line))\n",
    "    return yelp_data"
   ]
  },
  {
   "cell_type": "code",
   "execution_count": 4,
   "metadata": {
    "collapsed": false,
    "scrolled": true
   },
   "outputs": [],
   "source": [
    "Iu = readJSONfromFile('data/yelp_Iu.json')"
   ]
  },
  {
   "cell_type": "code",
   "execution_count": 5,
   "metadata": {
    "collapsed": true
   },
   "outputs": [],
   "source": [
    "Iu = Iu[0]"
   ]
  },
  {
   "cell_type": "code",
   "execution_count": 6,
   "metadata": {
    "collapsed": false,
    "scrolled": true
   },
   "outputs": [
    {
     "data": {
      "text/plain": [
       "721779"
      ]
     },
     "execution_count": 6,
     "metadata": {},
     "output_type": "execute_result"
    }
   ],
   "source": [
    "len(Iu)"
   ]
  },
  {
   "cell_type": "code",
   "execution_count": 7,
   "metadata": {
    "collapsed": false
   },
   "outputs": [
    {
     "data": {
      "text/plain": [
       "[u'4P-vTvE6cncJyUyLh73pxw',\n",
       " u'cF98fzqrMnikhXhuSz6ruQ',\n",
       " u'mlCDsdVFuZvRGrJTfQ6amw',\n",
       " u'PjQngP_7m7PA8K1WUHdXqg',\n",
       " u'Mgvs9XPJpR2Vo5D4Tb59sA',\n",
       " u'xsTagHpGvtH5WoDJJGnq7Q',\n",
       " u'j6MtKpKdqZC2wXnQetGBIQ',\n",
       " u'n3cFalLLuMyAy3Oe2dcwQw',\n",
       " u'LNsZJP6jZ11e0tDljOLPiQ',\n",
       " u'0i95sgY7pzYW9k88SOVJ8A',\n",
       " u'bkwXWFCRGra9q2lfYDTIBA',\n",
       " u'eoJfl5vG7X87QhcKb0nt5Q',\n",
       " u'cYwJA2A6I12KNkm2rtXd5g',\n",
       " u'L6-rMdUvJXGUzrNdhiNT6A',\n",
       " u'K7lWdNUhCbcnEvI0NhGewg',\n",
       " u'OF19lUVQHj8pVaSACNewWg',\n",
       " u'1t2UKl2k59iMdNhCfppLcQ',\n",
       " u'z45xS0Kc6GpiITwrpkRVdQ',\n",
       " u'n0NH0FW8NU3zfeJY3QluMQ',\n",
       " u'Ay2hfgpp8kELkwy76BRWLQ',\n",
       " u'hyyy_yFDI3CJJaG3uROGBA']"
      ]
     },
     "execution_count": 7,
     "metadata": {},
     "output_type": "execute_result"
    }
   ],
   "source": [
    "Iu['PmgqNO0-5Y3e3UoR61TD7w']"
   ]
  },
  {
   "cell_type": "code",
   "execution_count": 8,
   "metadata": {
    "collapsed": false
   },
   "outputs": [],
   "source": [
    "I = readJSONfromFile('data/yelp_restaurant_data.json')"
   ]
  },
  {
   "cell_type": "code",
   "execution_count": 9,
   "metadata": {
    "collapsed": true
   },
   "outputs": [],
   "source": [
    "I = I[0]"
   ]
  },
  {
   "cell_type": "code",
   "execution_count": 10,
   "metadata": {
    "collapsed": false
   },
   "outputs": [],
   "source": [
    "AllRest = []\n",
    "for i in I:\n",
    "    AllRest.append(i['business_id'])"
   ]
  },
  {
   "cell_type": "code",
   "execution_count": 11,
   "metadata": {
    "collapsed": true
   },
   "outputs": [],
   "source": [
    "AllUser = Iu.keys()"
   ]
  },
  {
   "cell_type": "code",
   "execution_count": 12,
   "metadata": {
    "collapsed": false
   },
   "outputs": [
    {
     "data": {
      "text/plain": [
       "721779"
      ]
     },
     "execution_count": 12,
     "metadata": {},
     "output_type": "execute_result"
    }
   ],
   "source": [
    "len(AllUser)"
   ]
  },
  {
   "cell_type": "code",
   "execution_count": 13,
   "metadata": {
    "collapsed": false
   },
   "outputs": [
    {
     "data": {
      "text/plain": [
       "48485"
      ]
     },
     "execution_count": 13,
     "metadata": {},
     "output_type": "execute_result"
    }
   ],
   "source": [
    "len(AllRest)"
   ]
  },
  {
   "cell_type": "code",
   "execution_count": 14,
   "metadata": {
    "collapsed": false
   },
   "outputs": [],
   "source": [
    "AllRestSet = set(AllRest)   #has the set of all restaurant ids"
   ]
  },
  {
   "cell_type": "code",
   "execution_count": 77,
   "metadata": {
    "collapsed": true
   },
   "outputs": [],
   "source": [
    "Lambda = 1\n",
    "Alpha = 10**-5\n",
    "K = 10"
   ]
  },
  {
   "cell_type": "code",
   "execution_count": 16,
   "metadata": {
    "collapsed": true
   },
   "outputs": [],
   "source": [
    "Gamma_u = dict()\n",
    "Gamma_r = dict()   #Latent factor variables\n",
    "for user in AllUser:\n",
    "    Gamma_u[user] = np.random.rand(K)\n",
    "for rest in AllRest:\n",
    "    Gamma_r[rest] = np.random.rand(K)"
   ]
  },
  {
   "cell_type": "code",
   "execution_count": 18,
   "metadata": {
    "collapsed": true
   },
   "outputs": [],
   "source": [
    "def logit(t):\n",
    "    return np.exp(-t)/(1+np.exp(-t))"
   ]
  },
  {
   "cell_type": "code",
   "execution_count": 33,
   "metadata": {
    "collapsed": true
   },
   "outputs": [],
   "source": [
    "def sigmoid(t):\n",
    "    return 1-logit(t)"
   ]
  },
  {
   "cell_type": "code",
   "execution_count": 79,
   "metadata": {
    "collapsed": true
   },
   "outputs": [],
   "source": [
    "def generate_validation_set(Iu, AllRestSet):\n",
    "    #incorrect sampling, but for now this will do\n",
    "    \n",
    "    triple_arr = []\n",
    "    for i in range(1000):\n",
    "        user = random.choice(Iu.keys())  #pick user\n",
    "        irest = random.choice(Iu[user])  #pick item i\n",
    "        jrest = random.choice(list(AllRestSet - set(Iu[user]))) \n",
    "        triple_arr.append([user,irest,jrest])\n",
    "    return triple_arr\n",
    "    "
   ]
  },
  {
   "cell_type": "code",
   "execution_count": 80,
   "metadata": {
    "collapsed": false
   },
   "outputs": [],
   "source": [
    "val_arr = generate_validation_set(Iu, AllRestSet)"
   ]
  },
  {
   "cell_type": "code",
   "execution_count": 93,
   "metadata": {
    "collapsed": true
   },
   "outputs": [],
   "source": [
    "def val_loss():\n",
    "    su=0\n",
    "    for i in range(len(val_arr)):\n",
    "        user = val_arr[i][0]\n",
    "        irest = val_arr[i][1]\n",
    "        jrest = val_arr[i][2]\n",
    "        xuij = np.dot(Gamma_u[user],Gamma_r[irest]-Gamma_r[jrest])\n",
    "        su += np.log(sigmoid(xuij))\n",
    "        su -= Lambda* np.linalg.norm(Gamma_u[user])\n",
    "        su -= Lambda * np.linalg.norm(Gamma_r[irest])\n",
    "        su -= Lambda * np.linalg.norm(Gamma_r[jrest])\n",
    "    return su"
   ]
  },
  {
   "cell_type": "code",
   "execution_count": 65,
   "metadata": {
    "collapsed": true
   },
   "outputs": [],
   "source": [
    "def loss_objective(user, rest_i, rest_j, Lambda):\n",
    "    su=0\n",
    "    xuij = np.dot(Gamma_u[user],Gamma_r[irest]-Gamma_r[jrest])\n",
    "    su += np.log(sigmoid(xuij))\n",
    "    su -= Lambda* np.linalg.norm(Gamma_u[user])\n",
    "    su -= Lambda * np.linalg.norm(Gamma_r[rest_i])\n",
    "    su -= Lambda * np.linalg.norm(Gamma_r[rest_j])\n",
    "    return su"
   ]
  },
  {
   "cell_type": "code",
   "execution_count": 89,
   "metadata": {
    "collapsed": true
   },
   "outputs": [],
   "source": [
    "def SGD(Lambda, K):\n",
    "    Gamma_u = dict()\n",
    "    Gamma_r = dict()\n",
    "    for user in AllUser:\n",
    "        Gamma_u[user] = np.random.rand(K)\n",
    "    for rest in AllRest:\n",
    "        Gamma_r[rest] = np.random.rand(K)\n",
    "    \n",
    "    train_loss_arr = []\n",
    "    val_loss_arr = []\n",
    "    max_iterations = 1000\n",
    "    for i in range(max_iterations):\n",
    "        user = random.choice(Iu.keys())  #pick user\n",
    "        irest = random.choice(Iu[user])  #pick item i\n",
    "        jrest = random.choice(list(AllRestSet - set(Iu[user])))    #pick item j\n",
    "        xuij = np.dot(Gamma_u[user],Gamma_r[irest]-Gamma_r[jrest])\n",
    "        delta_u_temp = Alpha*(logit(xuij)*(Gamma_r[irest]-Gamma_r[jrest]) - Lambda*Gamma_u[user])\n",
    "        delta_i_temp = Alpha*(logit(xuij)*(Gamma_u[user]) - Lambda*Gamma_r[irest])\n",
    "        delta_j_temp = Alpha*(logit(xuij)*(-Gamma_u[user]) - Lambda*Gamma_r[jrest])\n",
    "        Gamma_u[user] += delta_u_temp\n",
    "        Gamma_r[irest] += delta_i_temp\n",
    "        Gamma_r[jrest] += delta_j_temp\n",
    "        #train_loss_arr.append(loss_objective(user, irest, jrest,Lambda))\n",
    "        val_loss_arr.append(val_loss())\n",
    "        print val_loss_arr[-1]\n",
    "    return val_loss_arr"
   ]
  },
  {
   "cell_type": "code",
   "execution_count": 94,
   "metadata": {
    "collapsed": false
   },
   "outputs": [
    {
     "name": "stdout",
     "output_type": "stream",
     "text": [
      "-18447.8821253\n",
      "-18447.8821253\n",
      "-18447.8821253\n",
      "-18447.8821253\n",
      "-18447.8821253\n",
      "-18447.8821253\n",
      "-18447.8821253\n",
      "-18447.8821253\n",
      "-18447.8821253\n",
      "-18447.8821253\n",
      "-18447.8821253\n",
      "-18447.8821253\n",
      "-18447.8821253\n",
      "-18447.8821253\n",
      "-18447.8821253\n",
      "-18447.8821253\n",
      "-18447.8821253\n",
      "-18447.8821253\n",
      "-18447.8821253\n",
      "-18447.8821253\n",
      "-18447.8821253\n",
      "-18447.8821253\n",
      "-18447.8821253\n",
      "-18447.8821253\n",
      "-18447.8821253\n",
      "-18447.8821253\n",
      "-18447.8821253\n",
      "-18447.8821253\n",
      "-18447.8821253\n",
      "-18447.8821253\n",
      "-18447.8821253\n",
      "-18447.8821253\n",
      "-18447.8821253\n",
      "-18447.8821253\n",
      "-18447.8821253\n",
      "-18447.8821253\n",
      "-18447.8821253\n",
      "-18447.8821253\n",
      "-18447.8821253\n",
      "-18447.8821253\n",
      "-18447.8821253\n",
      "-18447.8821253\n",
      "-18447.8821253\n",
      "-18447.8821253\n",
      "-18447.8821253\n",
      "-18447.8821253\n",
      "-18447.8821253\n",
      "-18447.8821253\n",
      "-18447.8821253\n",
      "-18447.8821253\n",
      "-18447.8821253\n",
      "-18447.8821253\n",
      "-18447.8821253\n",
      "-18447.8821253\n",
      "-18447.8821253\n",
      "-18447.8821253\n",
      "-18447.8821253\n",
      "-18447.8821253\n",
      "-18447.8821253\n",
      "-18447.8821253\n",
      "-18447.8821253\n",
      "-18447.8821253\n",
      "-18447.8821253\n",
      "-18447.8821253\n",
      "-18447.8821253\n",
      "-18447.8821253\n",
      "-18447.8821253\n",
      "-18447.8821253\n",
      "-18447.8821253\n",
      "-18447.8821253\n",
      "-18447.8821253\n",
      "-18447.8821253\n",
      "-18447.8821253\n",
      "-18447.8821253\n",
      "-18447.8821253\n",
      "-18447.8821253\n",
      "-18447.8821253\n",
      "-18447.8821253\n",
      "-18447.8821253\n",
      "-18447.8821253\n",
      "-18447.8821253\n",
      "-18447.8821253\n",
      "-18447.8821253\n",
      "-18447.8821253\n",
      "-18447.8821253\n",
      "-18447.8821253\n",
      "-18447.8821253\n",
      "-18447.8821253\n",
      "-18447.8821253\n",
      "-18447.8821253\n",
      "-18447.8821253\n",
      "-18447.8821253\n",
      "-18447.8821253\n",
      "-18447.8821253\n",
      "-18447.8821253\n",
      "-18447.8821253\n",
      "-18447.8821253\n",
      "-18447.8821253\n",
      "-18447.8821253\n",
      "-18447.8821253\n",
      "-18447.8821253\n",
      "-18447.8821253\n",
      "-18447.8821253\n",
      "-18447.8821253\n",
      "-18447.8821253\n",
      "-18447.8821253\n",
      "-18447.8821253\n",
      "-18447.8821253\n",
      "-18447.8821253\n",
      "-18447.8821253\n",
      "-18447.8821253\n",
      "-18447.8821253\n"
     ]
    },
    {
     "ename": "KeyboardInterrupt",
     "evalue": "",
     "output_type": "error",
     "traceback": [
      "\u001b[0;31m---------------------------------------------------------------------------\u001b[0m",
      "\u001b[0;31mKeyboardInterrupt\u001b[0m                         Traceback (most recent call last)",
      "\u001b[0;32m<ipython-input-94-cfcf9019bea3>\u001b[0m in \u001b[0;36m<module>\u001b[0;34m()\u001b[0m\n\u001b[0;32m----> 1\u001b[0;31m \u001b[0marr\u001b[0m \u001b[0;34m=\u001b[0m \u001b[0mSGD\u001b[0m\u001b[0;34m(\u001b[0m\u001b[0;36m1\u001b[0m\u001b[0;34m,\u001b[0m\u001b[0;36m10\u001b[0m\u001b[0;34m)\u001b[0m\u001b[0;34m\u001b[0m\u001b[0m\n\u001b[0m",
      "\u001b[0;32m<ipython-input-89-a16acfdfccb8>\u001b[0m in \u001b[0;36mSGD\u001b[0;34m(Lambda, K)\u001b[0m\n\u001b[1;32m     22\u001b[0m         \u001b[0mGamma_r\u001b[0m\u001b[0;34m[\u001b[0m\u001b[0mjrest\u001b[0m\u001b[0;34m]\u001b[0m \u001b[0;34m+=\u001b[0m \u001b[0mdelta_j_temp\u001b[0m\u001b[0;34m\u001b[0m\u001b[0m\n\u001b[1;32m     23\u001b[0m         \u001b[0;31m#train_loss_arr.append(loss_objective(user, irest, jrest,Lambda))\u001b[0m\u001b[0;34m\u001b[0m\u001b[0;34m\u001b[0m\u001b[0m\n\u001b[0;32m---> 24\u001b[0;31m         \u001b[0mval_loss_arr\u001b[0m\u001b[0;34m.\u001b[0m\u001b[0mappend\u001b[0m\u001b[0;34m(\u001b[0m\u001b[0mval_loss\u001b[0m\u001b[0;34m(\u001b[0m\u001b[0;34m)\u001b[0m\u001b[0;34m)\u001b[0m\u001b[0;34m\u001b[0m\u001b[0m\n\u001b[0m\u001b[1;32m     25\u001b[0m         \u001b[0;32mprint\u001b[0m \u001b[0mval_loss_arr\u001b[0m\u001b[0;34m[\u001b[0m\u001b[0;34m-\u001b[0m\u001b[0;36m1\u001b[0m\u001b[0;34m]\u001b[0m\u001b[0;34m\u001b[0m\u001b[0m\n\u001b[1;32m     26\u001b[0m     \u001b[0;32mreturn\u001b[0m \u001b[0mval_loss_arr\u001b[0m\u001b[0;34m\u001b[0m\u001b[0m\n",
      "\u001b[0;32m<ipython-input-93-e7b6eb671e87>\u001b[0m in \u001b[0;36mval_loss\u001b[0;34m()\u001b[0m\n\u001b[1;32m      6\u001b[0m         \u001b[0mjrest\u001b[0m \u001b[0;34m=\u001b[0m \u001b[0mval_arr\u001b[0m\u001b[0;34m[\u001b[0m\u001b[0mi\u001b[0m\u001b[0;34m]\u001b[0m\u001b[0;34m[\u001b[0m\u001b[0;36m2\u001b[0m\u001b[0;34m]\u001b[0m\u001b[0;34m\u001b[0m\u001b[0m\n\u001b[1;32m      7\u001b[0m         \u001b[0mxuij\u001b[0m \u001b[0;34m=\u001b[0m \u001b[0mnp\u001b[0m\u001b[0;34m.\u001b[0m\u001b[0mdot\u001b[0m\u001b[0;34m(\u001b[0m\u001b[0mGamma_u\u001b[0m\u001b[0;34m[\u001b[0m\u001b[0muser\u001b[0m\u001b[0;34m]\u001b[0m\u001b[0;34m,\u001b[0m\u001b[0mGamma_r\u001b[0m\u001b[0;34m[\u001b[0m\u001b[0mirest\u001b[0m\u001b[0;34m]\u001b[0m\u001b[0;34m-\u001b[0m\u001b[0mGamma_r\u001b[0m\u001b[0;34m[\u001b[0m\u001b[0mjrest\u001b[0m\u001b[0;34m]\u001b[0m\u001b[0;34m)\u001b[0m\u001b[0;34m\u001b[0m\u001b[0m\n\u001b[0;32m----> 8\u001b[0;31m         \u001b[0msu\u001b[0m \u001b[0;34m+=\u001b[0m \u001b[0mnp\u001b[0m\u001b[0;34m.\u001b[0m\u001b[0mlog\u001b[0m\u001b[0;34m(\u001b[0m\u001b[0msigmoid\u001b[0m\u001b[0;34m(\u001b[0m\u001b[0mxuij\u001b[0m\u001b[0;34m)\u001b[0m\u001b[0;34m)\u001b[0m\u001b[0;34m\u001b[0m\u001b[0m\n\u001b[0m\u001b[1;32m      9\u001b[0m         \u001b[0msu\u001b[0m \u001b[0;34m-=\u001b[0m \u001b[0mLambda\u001b[0m\u001b[0;34m*\u001b[0m \u001b[0mnp\u001b[0m\u001b[0;34m.\u001b[0m\u001b[0mlinalg\u001b[0m\u001b[0;34m.\u001b[0m\u001b[0mnorm\u001b[0m\u001b[0;34m(\u001b[0m\u001b[0mGamma_u\u001b[0m\u001b[0;34m[\u001b[0m\u001b[0muser\u001b[0m\u001b[0;34m]\u001b[0m\u001b[0;34m)\u001b[0m\u001b[0;34m\u001b[0m\u001b[0m\n\u001b[1;32m     10\u001b[0m         \u001b[0msu\u001b[0m \u001b[0;34m-=\u001b[0m \u001b[0mLambda\u001b[0m \u001b[0;34m*\u001b[0m \u001b[0mnp\u001b[0m\u001b[0;34m.\u001b[0m\u001b[0mlinalg\u001b[0m\u001b[0;34m.\u001b[0m\u001b[0mnorm\u001b[0m\u001b[0;34m(\u001b[0m\u001b[0mGamma_r\u001b[0m\u001b[0;34m[\u001b[0m\u001b[0mirest\u001b[0m\u001b[0;34m]\u001b[0m\u001b[0;34m)\u001b[0m\u001b[0;34m\u001b[0m\u001b[0m\n",
      "\u001b[0;32m<ipython-input-33-eb0825f97200>\u001b[0m in \u001b[0;36msigmoid\u001b[0;34m(t)\u001b[0m\n\u001b[1;32m      1\u001b[0m \u001b[0;32mdef\u001b[0m \u001b[0msigmoid\u001b[0m\u001b[0;34m(\u001b[0m\u001b[0mt\u001b[0m\u001b[0;34m)\u001b[0m\u001b[0;34m:\u001b[0m\u001b[0;34m\u001b[0m\u001b[0m\n\u001b[0;32m----> 2\u001b[0;31m     \u001b[0;32mreturn\u001b[0m \u001b[0;36m1\u001b[0m\u001b[0;34m-\u001b[0m \u001b[0mlogit\u001b[0m\u001b[0;34m(\u001b[0m\u001b[0mt\u001b[0m\u001b[0;34m)\u001b[0m\u001b[0;34m\u001b[0m\u001b[0m\n\u001b[0m",
      "\u001b[0;32m<ipython-input-18-0fce4c2a6ff6>\u001b[0m in \u001b[0;36mlogit\u001b[0;34m(t)\u001b[0m\n\u001b[1;32m      1\u001b[0m \u001b[0;32mdef\u001b[0m \u001b[0mlogit\u001b[0m\u001b[0;34m(\u001b[0m\u001b[0mt\u001b[0m\u001b[0;34m)\u001b[0m\u001b[0;34m:\u001b[0m\u001b[0;34m\u001b[0m\u001b[0m\n\u001b[0;32m----> 2\u001b[0;31m     \u001b[0;32mreturn\u001b[0m \u001b[0mnp\u001b[0m\u001b[0;34m.\u001b[0m\u001b[0mexp\u001b[0m\u001b[0;34m(\u001b[0m\u001b[0;34m-\u001b[0m\u001b[0mt\u001b[0m\u001b[0;34m)\u001b[0m\u001b[0;34m/\u001b[0m\u001b[0;34m(\u001b[0m\u001b[0;36m1\u001b[0m\u001b[0;34m+\u001b[0m\u001b[0mnp\u001b[0m\u001b[0;34m.\u001b[0m\u001b[0mexp\u001b[0m\u001b[0;34m(\u001b[0m\u001b[0;34m-\u001b[0m\u001b[0mt\u001b[0m\u001b[0;34m)\u001b[0m\u001b[0;34m)\u001b[0m\u001b[0;34m\u001b[0m\u001b[0m\n\u001b[0m",
      "\u001b[0;31mKeyboardInterrupt\u001b[0m: "
     ]
    }
   ],
   "source": [
    "arr = SGD(1,10)"
   ]
  },
  {
   "cell_type": "code",
   "execution_count": 76,
   "metadata": {
    "collapsed": false
   },
   "outputs": [
    {
     "data": {
      "image/png": "[encoded data removed]",
      "text/plain": [
       "<matplotlib.figure.Figure at 0x14bf03bd0>"
      ]
     },
     "metadata": {},
     "output_type": "display_data"
    }
   ],
   "source": [
    "plt.plot(np.arange(len(arr)), arr)\n",
    "plt.show()\n"
   ]
  },
  {
   "cell_type": "code",
   "execution_count": 52,
   "metadata": {
    "collapsed": true
   },
   "outputs": [],
   "source": [
    "CUser = []\n",
    "Cirest = []\n",
    "Cjrest = []\n",
    "iterations = 100000"
   ]
  },
  {
   "cell_type": "code",
   "execution_count": 20,
   "metadata": {
    "collapsed": true
   },
   "outputs": [],
   "source": [
    "import math\n",
    "def vlen(t):\n",
    "    su = 0\n",
    "    for i in t:\n",
    "        su += i*i\n",
    "    return su"
   ]
  },
  {
   "cell_type": "code",
   "execution_count": 53,
   "metadata": {
    "collapsed": true
   },
   "outputs": [],
   "source": [
    "def loss(CUser,Cirest,Cjrest):\n",
    "    su = 0\n",
    "    count = 0\n",
    "    for user in CUser:\n",
    "#         print(count)\n",
    "        count +=1\n",
    "        for irest in Cirest:\n",
    "            for jrest in Cjrest:\n",
    "                xuij = np.dot(Gamma_u[user],Gamma_r[irest]-Gamma_r[jrest])\n",
    "                su += np.log(sigmoid(xuij))\n",
    "    for user in CUser:\n",
    "        su -= Lambda* vlen(Gamma_u[user])\n",
    "    for rest in Cirest:\n",
    "        su -= Lambda* vlen(Gamma_r[rest])\n",
    "    for rest in Cjrest:\n",
    "        su -= Lambda* vlen(Gamma_r[rest])\n",
    "    return su"
   ]
  },
  {
   "cell_type": "code",
   "execution_count": 51,
   "metadata": {
    "collapsed": false
   },
   "outputs": [
    {
     "name": "stdout",
     "output_type": "stream",
     "text": [
      "-76.6752013106\n",
      "-173.26604979\n",
      "-285.799075542\n",
      "-406.083142222\n",
      "-565.913166579\n",
      "-715.435833545\n",
      "-957.538119845\n",
      "-1217.87843237\n",
      "-1464.29570736\n",
      "-1751.69931885\n",
      "-2056.94105513\n",
      "-2403.32429464\n",
      "-2749.15996226\n",
      "-3135.19035353\n",
      "-3744.93463403\n",
      "-4323.76122995\n",
      "-5062.83172024\n",
      "-5807.78149799\n",
      "-6509.54950062\n",
      "-7353.89673825\n",
      "-8332.85799596\n",
      "-9408.95777047\n",
      "-10706.8003198\n",
      "-11859.4745413\n",
      "-12886.5644444\n",
      "-14075.5777925\n",
      "-15642.4377723\n",
      "-17366.6526532\n"
     ]
    },
    {
     "ename": "KeyboardInterrupt",
     "evalue": "",
     "output_type": "error",
     "traceback": [
      "\u001b[0;31m---------------------------------------------------------------------------\u001b[0m",
      "\u001b[0;31mKeyboardInterrupt\u001b[0m                         Traceback (most recent call last)",
      "\u001b[0;32m<ipython-input-51-5440e1b1660c>\u001b[0m in \u001b[0;36m<module>\u001b[0;34m()\u001b[0m\n\u001b[1;32m      6\u001b[0m     \u001b[0mirest\u001b[0m \u001b[0;34m=\u001b[0m \u001b[0mrandom\u001b[0m\u001b[0;34m.\u001b[0m\u001b[0mchoice\u001b[0m\u001b[0;34m(\u001b[0m\u001b[0mIu\u001b[0m\u001b[0;34m[\u001b[0m\u001b[0muser\u001b[0m\u001b[0;34m]\u001b[0m\u001b[0;34m)\u001b[0m\u001b[0;34m\u001b[0m\u001b[0m\n\u001b[1;32m      7\u001b[0m     \u001b[0mCirest\u001b[0m\u001b[0;34m.\u001b[0m\u001b[0mappend\u001b[0m\u001b[0;34m(\u001b[0m\u001b[0mirest\u001b[0m\u001b[0;34m)\u001b[0m\u001b[0;34m\u001b[0m\u001b[0m\n\u001b[0;32m----> 8\u001b[0;31m     \u001b[0mjrest\u001b[0m \u001b[0;34m=\u001b[0m \u001b[0mrandom\u001b[0m\u001b[0;34m.\u001b[0m\u001b[0mchoice\u001b[0m\u001b[0;34m(\u001b[0m\u001b[0mlist\u001b[0m\u001b[0;34m(\u001b[0m\u001b[0mAllRestSet\u001b[0m \u001b[0;34m-\u001b[0m \u001b[0mset\u001b[0m\u001b[0;34m(\u001b[0m\u001b[0mIu\u001b[0m\u001b[0;34m[\u001b[0m\u001b[0muser\u001b[0m\u001b[0;34m]\u001b[0m\u001b[0;34m)\u001b[0m\u001b[0;34m)\u001b[0m\u001b[0;34m)\u001b[0m\u001b[0;34m\u001b[0m\u001b[0m\n\u001b[0m\u001b[1;32m      9\u001b[0m     \u001b[0mCjrest\u001b[0m\u001b[0;34m.\u001b[0m\u001b[0mappend\u001b[0m\u001b[0;34m(\u001b[0m\u001b[0mjrest\u001b[0m\u001b[0;34m)\u001b[0m\u001b[0;34m\u001b[0m\u001b[0m\n\u001b[1;32m     10\u001b[0m     \u001b[0mxuij\u001b[0m \u001b[0;34m=\u001b[0m \u001b[0mnp\u001b[0m\u001b[0;34m.\u001b[0m\u001b[0mdot\u001b[0m\u001b[0;34m(\u001b[0m\u001b[0mGamma_u\u001b[0m\u001b[0;34m[\u001b[0m\u001b[0muser\u001b[0m\u001b[0;34m]\u001b[0m\u001b[0;34m,\u001b[0m\u001b[0mGamma_r\u001b[0m\u001b[0;34m[\u001b[0m\u001b[0mirest\u001b[0m\u001b[0;34m]\u001b[0m\u001b[0;34m-\u001b[0m\u001b[0mGamma_r\u001b[0m\u001b[0;34m[\u001b[0m\u001b[0mjrest\u001b[0m\u001b[0;34m]\u001b[0m\u001b[0;34m)\u001b[0m\u001b[0;34m\u001b[0m\u001b[0m\n",
      "\u001b[0;31mKeyboardInterrupt\u001b[0m: "
     ]
    }
   ],
   "source": [
    "loss_arr = []\n",
    "\n",
    "for i in range(iterations):\n",
    "    user = random.choice(Iu.keys())\n",
    "    CUser.append(user)\n",
    "    irest = random.choice(Iu[user])\n",
    "    Cirest.append(irest)\n",
    "    jrest = random.choice(list(AllRestSet - set(Iu[user])))\n",
    "    Cjrest.append(jrest)\n",
    "    xuij = np.dot(Gamma_u[user],Gamma_r[irest]-Gamma_r[jrest])\n",
    "    delta_u_temp = Alpha*(logit(xuij)*(Gamma_r[irest]-Gamma_r[jrest]) - Lambda*Gamma_u[user])\n",
    "    delta_i_temp = Alpha*(logit(xuij)*(Gamma_u[user]) - Lambda*Gamma_r[irest])\n",
    "    delta_j_temp = Alpha*(logit(xuij)*(-Gamma_u[user]) - Lambda*Gamma_r[jrest])\n",
    "    \n",
    "    Gamma_u[user] += delta_u_temp\n",
    "    Gamma_r[irest] += delta_i_temp\n",
    "    Gamma_r[jrest] += delta_j_temp\n",
    "    loss_arr.append(loss(CUser,Cirest,Cjrest))\n",
    "    #if i%100 == 0:\n",
    "    print loss_arr[-1]\n",
    "    "
   ]
  },
  {
   "cell_type": "code",
   "execution_count": 54,
   "metadata": {
    "collapsed": false
   },
   "outputs": [
    {
     "name": "stdout",
     "output_type": "stream",
     "text": [
      "-113.292344182\n",
      "-230.826289111\n",
      "-340.151455046\n",
      "-463.120536025\n",
      "-609.22746753\n",
      "-800.304994014\n",
      "-1005.77537811\n",
      "-1307.22705945\n",
      "-1563.26462555\n",
      "-1950.47254603\n",
      "-2342.7315901\n",
      "-2849.9255071\n",
      "-3290.83026302\n",
      "-3812.97022357\n",
      "-4433.3669641\n",
      "-5107.34350906\n",
      "-5816.44273393\n",
      "-6671.75907431\n",
      "-7693.79999549\n",
      "-8895.91236038\n",
      "-10338.8236528\n",
      "-11664.6939489\n",
      "-12977.9945577\n",
      "-14452.741165\n",
      "-15785.1839713\n",
      "-17494.0930155\n",
      "-19405.8111097\n",
      "-21180.1367106\n",
      "-22669.6815744\n",
      "-25276.0558267\n",
      "-27856.2816927\n",
      "-30894.3127765\n",
      "-33400.3888714\n",
      "-36143.8160878\n",
      "-38426.5867493\n"
     ]
    },
    {
     "ename": "KeyboardInterrupt",
     "evalue": "",
     "output_type": "error",
     "traceback": [
      "\u001b[0;31m---------------------------------------------------------------------------\u001b[0m",
      "\u001b[0;31mKeyboardInterrupt\u001b[0m                         Traceback (most recent call last)",
      "\u001b[0;32m<ipython-input-54-af85827cd297>\u001b[0m in \u001b[0;36m<module>\u001b[0;34m()\u001b[0m\n\u001b[1;32m     10\u001b[0m     \u001b[0mGamma_r\u001b[0m\u001b[0;34m[\u001b[0m\u001b[0mirest\u001b[0m\u001b[0;34m]\u001b[0m\u001b[0;34m+=\u001b[0m \u001b[0mAlpha\u001b[0m\u001b[0;34m*\u001b[0m\u001b[0;34m(\u001b[0m\u001b[0mlogit\u001b[0m\u001b[0;34m(\u001b[0m\u001b[0mxuij\u001b[0m\u001b[0;34m)\u001b[0m\u001b[0;34m*\u001b[0m\u001b[0;34m(\u001b[0m\u001b[0mGamma_u\u001b[0m\u001b[0;34m[\u001b[0m\u001b[0muser\u001b[0m\u001b[0;34m]\u001b[0m\u001b[0;34m)\u001b[0m \u001b[0;34m+\u001b[0m \u001b[0mLambda\u001b[0m\u001b[0;34m*\u001b[0m\u001b[0mGamma_r\u001b[0m\u001b[0;34m[\u001b[0m\u001b[0mirest\u001b[0m\u001b[0;34m]\u001b[0m\u001b[0;34m)\u001b[0m\u001b[0;34m\u001b[0m\u001b[0m\n\u001b[1;32m     11\u001b[0m     \u001b[0mGamma_r\u001b[0m\u001b[0;34m[\u001b[0m\u001b[0mjrest\u001b[0m\u001b[0;34m]\u001b[0m\u001b[0;34m+=\u001b[0m \u001b[0mAlpha\u001b[0m\u001b[0;34m*\u001b[0m\u001b[0;34m(\u001b[0m\u001b[0mlogit\u001b[0m\u001b[0;34m(\u001b[0m\u001b[0mxuij\u001b[0m\u001b[0;34m)\u001b[0m\u001b[0;34m*\u001b[0m\u001b[0;34m(\u001b[0m\u001b[0;34m-\u001b[0m\u001b[0mGamma_u\u001b[0m\u001b[0;34m[\u001b[0m\u001b[0muser\u001b[0m\u001b[0;34m]\u001b[0m\u001b[0;34m)\u001b[0m \u001b[0;34m+\u001b[0m \u001b[0mLambda\u001b[0m\u001b[0;34m*\u001b[0m\u001b[0mGamma_r\u001b[0m\u001b[0;34m[\u001b[0m\u001b[0mjrest\u001b[0m\u001b[0;34m]\u001b[0m\u001b[0;34m)\u001b[0m\u001b[0;34m\u001b[0m\u001b[0m\n\u001b[0;32m---> 12\u001b[0;31m     \u001b[0;32mprint\u001b[0m \u001b[0mloss\u001b[0m\u001b[0;34m(\u001b[0m\u001b[0mCUser\u001b[0m\u001b[0;34m,\u001b[0m\u001b[0mCirest\u001b[0m\u001b[0;34m,\u001b[0m\u001b[0mCjrest\u001b[0m\u001b[0;34m)\u001b[0m\u001b[0;34m\u001b[0m\u001b[0m\n\u001b[0m",
      "\u001b[0;32m<ipython-input-53-41df7bdd9e21>\u001b[0m in \u001b[0;36mloss\u001b[0;34m(CUser, Cirest, Cjrest)\u001b[0m\n\u001b[1;32m      7\u001b[0m         \u001b[0;32mfor\u001b[0m \u001b[0mirest\u001b[0m \u001b[0;32min\u001b[0m \u001b[0mCirest\u001b[0m\u001b[0;34m:\u001b[0m\u001b[0;34m\u001b[0m\u001b[0m\n\u001b[1;32m      8\u001b[0m             \u001b[0;32mfor\u001b[0m \u001b[0mjrest\u001b[0m \u001b[0;32min\u001b[0m \u001b[0mCjrest\u001b[0m\u001b[0;34m:\u001b[0m\u001b[0;34m\u001b[0m\u001b[0m\n\u001b[0;32m----> 9\u001b[0;31m                 \u001b[0mxuij\u001b[0m \u001b[0;34m=\u001b[0m \u001b[0mnp\u001b[0m\u001b[0;34m.\u001b[0m\u001b[0mdot\u001b[0m\u001b[0;34m(\u001b[0m\u001b[0mGamma_u\u001b[0m\u001b[0;34m[\u001b[0m\u001b[0muser\u001b[0m\u001b[0;34m]\u001b[0m\u001b[0;34m,\u001b[0m\u001b[0mGamma_r\u001b[0m\u001b[0;34m[\u001b[0m\u001b[0mirest\u001b[0m\u001b[0;34m]\u001b[0m\u001b[0;34m-\u001b[0m\u001b[0mGamma_r\u001b[0m\u001b[0;34m[\u001b[0m\u001b[0mjrest\u001b[0m\u001b[0;34m]\u001b[0m\u001b[0;34m)\u001b[0m\u001b[0;34m\u001b[0m\u001b[0m\n\u001b[0m\u001b[1;32m     10\u001b[0m                 \u001b[0msu\u001b[0m \u001b[0;34m+=\u001b[0m \u001b[0mnp\u001b[0m\u001b[0;34m.\u001b[0m\u001b[0mlog\u001b[0m\u001b[0;34m(\u001b[0m\u001b[0msigmoid\u001b[0m\u001b[0;34m(\u001b[0m\u001b[0mxuij\u001b[0m\u001b[0;34m)\u001b[0m\u001b[0;34m)\u001b[0m\u001b[0;34m\u001b[0m\u001b[0m\n\u001b[1;32m     11\u001b[0m     \u001b[0;32mfor\u001b[0m \u001b[0muser\u001b[0m \u001b[0;32min\u001b[0m \u001b[0mCUser\u001b[0m\u001b[0;34m:\u001b[0m\u001b[0;34m\u001b[0m\u001b[0m\n",
      "\u001b[0;31mKeyboardInterrupt\u001b[0m: "
     ]
    }
   ],
   "source": [
    "for i in range(iterations):\n",
    "    user = random.choice(Iu.keys())\n",
    "    CUser.append(user)\n",
    "    irest = random.choice(Iu[user])\n",
    "    Cirest.append(irest)\n",
    "    jrest = random.choice(list(AllRestSet - set(Iu[user])))\n",
    "    Cjrest.append(jrest)\n",
    "    xuij = np.dot(Gamma_u[user],Gamma_r[irest]-Gamma_r[jrest])\n",
    "    Gamma_u[user] += Alpha*(logit(xuij)*(Gamma_r[irest]-Gamma_r[jrest]) + Lambda*Gamma_u[user])\n",
    "    Gamma_r[irest]+= Alpha*(logit(xuij)*(Gamma_u[user]) + Lambda*Gamma_r[irest])\n",
    "    Gamma_r[jrest]+= Alpha*(logit(xuij)*(-Gamma_u[user]) + Lambda*Gamma_r[jrest])\n",
    "    print loss(CUser,Cirest,Cjrest)"
   ]
  },
  {
   "cell_type": "code",
   "execution_count": null,
   "metadata": {
    "collapsed": true
   },
   "outputs": [],
   "source": []
  }
 ],
 "metadata": {
  "kernelspec": {
   "display_name": "Python 2",
   "language": "python",
   "name": "python2"
  },
  "language_info": {
   "codemirror_mode": {
    "name": "ipython",
    "version": 2
   },
   "file_extension": ".py",
   "mimetype": "text/x-python",
   "name": "python",
   "nbconvert_exporter": "python",
   "pygments_lexer": "ipython2",
   "version": "2.7.13"
  }
 },
 "nbformat": 4,
 "nbformat_minor": 2
}
