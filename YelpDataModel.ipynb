{
 "cells": [
  {
   "cell_type": "markdown",
   "metadata": {},
   "source": [
    "### This  file is specific to preprocessing and first-round data cleaning requirements. Take the new JSON files generated from here and use it separately for the purposes of exploration and modelling"
   ]
  },
  {
   "cell_type": "code",
   "execution_count": 1,
   "metadata": {
    "collapsed": true
   },
   "outputs": [],
   "source": [
    "import numpy as np\n",
    "import scipy\n",
    "import random\n",
    "import urllib\n",
    "import matplotlib.pyplot as plt\n",
    "import json"
   ]
  },
  {
   "cell_type": "code",
   "execution_count": 2,
   "metadata": {
    "collapsed": true
   },
   "outputs": [],
   "source": [
    "random.seed(0) #set an initial seed so that we can reproduce consistently"
   ]
  },
  {
   "cell_type": "code",
   "execution_count": 3,
   "metadata": {
    "collapsed": false
   },
   "outputs": [],
   "source": [
    "def readJSONfromFile(fname):\n",
    "    yelp_data = []\n",
    "    with open(fname) as f:\n",
    "        for line in f:\n",
    "            yelp_data.append(json.loads(line))\n",
    "    return yelp_data"
   ]
  },
  {
   "cell_type": "code",
   "execution_count": 29,
   "metadata": {
    "collapsed": false,
    "scrolled": true
   },
   "outputs": [],
   "source": [
    "Iu = readJSONfromFile('data/yelp_Iu.json')"
   ]
  },
  {
   "cell_type": "code",
   "execution_count": 31,
   "metadata": {
    "collapsed": true
   },
   "outputs": [],
   "source": [
    "Iu = Iu[0]"
   ]
  },
  {
   "cell_type": "code",
   "execution_count": 32,
   "metadata": {
    "collapsed": false
   },
   "outputs": [
    {
     "data": {
      "text/plain": [
       "721779"
      ]
     },
     "execution_count": 32,
     "metadata": {},
     "output_type": "execute_result"
    }
   ],
   "source": [
    "len(Iu)"
   ]
  },
  {
   "cell_type": "code",
   "execution_count": 34,
   "metadata": {
    "collapsed": false
   },
   "outputs": [
    {
     "data": {
      "text/plain": [
       "21"
      ]
     },
     "execution_count": 34,
     "metadata": {},
     "output_type": "execute_result"
    }
   ],
   "source": [
    "Iu['PmgqNO0-5Y3e3UoR61TD7w']"
   ]
  },
  {
   "cell_type": "code",
   "execution_count": 45,
   "metadata": {
    "collapsed": true
   },
   "outputs": [],
   "source": [
    "I = readJSONfromFile('data/yelp_restaurant_data.json')"
   ]
  },
  {
   "cell_type": "code",
   "execution_count": 49,
   "metadata": {
    "collapsed": true
   },
   "outputs": [],
   "source": [
    "I = I[0]"
   ]
  },
  {
   "cell_type": "code",
   "execution_count": 50,
   "metadata": {
    "collapsed": false
   },
   "outputs": [],
   "source": [
    "AllRest = []\n",
    "for i in I:\n",
    "    AllRest.append(i['business_id'])"
   ]
  },
  {
   "cell_type": "code",
   "execution_count": 82,
   "metadata": {
    "collapsed": false,
    "scrolled": false
   },
   "outputs": [
    {
     "data": {
      "text/plain": [
       "array([ 0.38687244,  0.6089526 ,  0.78783475,  0.38597039,  0.59112124,\n",
       "        0.79973716,  0.29162575,  0.50246842,  0.51318607,  0.33347705])"
      ]
     },
     "execution_count": 82,
     "metadata": {},
     "output_type": "execute_result"
    }
   ],
   "source": [
    "np.random.rand(10)"
   ]
  },
  {
   "cell_type": "code",
   "execution_count": 83,
   "metadata": {
    "collapsed": true
   },
   "outputs": [],
   "source": [
    "AllUser = Iu.keys()"
   ]
  },
  {
   "cell_type": "code",
   "execution_count": 85,
   "metadata": {
    "collapsed": false
   },
   "outputs": [
    {
     "data": {
      "text/plain": [
       "721779"
      ]
     },
     "execution_count": 85,
     "metadata": {},
     "output_type": "execute_result"
    }
   ],
   "source": [
    "len(AllUser)"
   ]
  },
  {
   "cell_type": "code",
   "execution_count": 86,
   "metadata": {
    "collapsed": false
   },
   "outputs": [
    {
     "data": {
      "text/plain": [
       "48485"
      ]
     },
     "execution_count": 86,
     "metadata": {},
     "output_type": "execute_result"
    }
   ],
   "source": [
    "len(AllRest)"
   ]
  },
  {
   "cell_type": "code",
   "execution_count": 87,
   "metadata": {
    "collapsed": false
   },
   "outputs": [],
   "source": [
    "AllRestSet = set(AllRest)"
   ]
  },
  {
   "cell_type": "code",
   "execution_count": 88,
   "metadata": {
    "collapsed": true
   },
   "outputs": [],
   "source": [
    "Lambda = 1\n",
    "Alpha = 10**-5\n",
    "K = 10"
   ]
  },
  {
   "cell_type": "code",
   "execution_count": 89,
   "metadata": {
    "collapsed": true
   },
   "outputs": [],
   "source": [
    "Gamma_u = {}\n",
    "Gamma_r = {}"
   ]
  },
  {
   "cell_type": "code",
   "execution_count": 90,
   "metadata": {
    "collapsed": true
   },
   "outputs": [],
   "source": [
    "for user in AllUser:\n",
    "    Gamma_u[user] = np.random.rand(K)\n",
    "for rest in AllRest:\n",
    "    Gamma_r[rest] = np.random.rand(K)"
   ]
  },
  {
   "cell_type": "code",
   "execution_count": 91,
   "metadata": {
    "collapsed": true
   },
   "outputs": [],
   "source": [
    "def logit(t):\n",
    "    return np.exp(-t)/(1+np.exp(-t))"
   ]
  },
  {
   "cell_type": "code",
   "execution_count": 92,
   "metadata": {
    "collapsed": true
   },
   "outputs": [],
   "source": [
    "def sigmoid(t):\n",
    "    return 1-logit(t)"
   ]
  },
  {
   "cell_type": "code",
   "execution_count": 93,
   "metadata": {
    "collapsed": true
   },
   "outputs": [],
   "source": [
    "import math\n",
    "def vlen(t):\n",
    "    su = 0\n",
    "    for i in t:\n",
    "        su += i*i\n",
    "    return su"
   ]
  },
  {
   "cell_type": "code",
   "execution_count": 111,
   "metadata": {
    "collapsed": true
   },
   "outputs": [],
   "source": [
    "CUser = []\n",
    "Cirest = []\n",
    "Cjrest = []\n",
    "iterations = 100000"
   ]
  },
  {
   "cell_type": "code",
   "execution_count": 112,
   "metadata": {
    "collapsed": true
   },
   "outputs": [],
   "source": [
    "def loss(CUser,Cirest,Cjrest):\n",
    "    su = 0\n",
    "    count = 0\n",
    "    for user in CUser:\n",
    "#         print(count)\n",
    "        count +=1\n",
    "        for irest in Cirest:\n",
    "            for jrest in Cjrest:\n",
    "                xuij = np.dot(Gamma_u[user],Gamma_r[irest]-Gamma_r[jrest])\n",
    "                su += np.log(sigmoid(xuij))\n",
    "    for user in CUser:\n",
    "        su += Lambda* vlen(Gamma_u[user])\n",
    "    for rest in Cirest:\n",
    "        su += Lambda* vlen(Gamma_r[rest])\n",
    "    for rest in Cjrest:\n",
    "        su += Lambda* vlen(Gamma_r[rest])\n",
    "    return su"
   ]
  },
  {
   "cell_type": "code",
   "execution_count": 113,
   "metadata": {
    "collapsed": false
   },
   "outputs": [
    {
     "name": "stdout",
     "output_type": "stream",
     "text": [
      "0\n",
      "7.42623837588\n",
      "1\n",
      "2\n",
      "3\n",
      "4\n",
      "5\n",
      "6\n",
      "7\n",
      "8\n",
      "9\n",
      "10\n",
      "-824506.003971\n",
      "11\n",
      "12\n",
      "13\n",
      "14\n",
      "15\n",
      "16\n",
      "17\n",
      "18\n",
      "19\n",
      "20\n",
      "-6601376.07134\n",
      "21\n",
      "22\n",
      "23\n",
      "24\n",
      "25\n",
      "26\n",
      "27\n",
      "28\n",
      "29\n",
      "30\n"
     ]
    },
    {
     "ename": "KeyboardInterrupt",
     "evalue": "",
     "output_type": "error",
     "traceback": [
      "\u001b[0;31m---------------------------------------------------------------------------\u001b[0m",
      "\u001b[0;31mKeyboardInterrupt\u001b[0m                         Traceback (most recent call last)",
      "\u001b[0;32m<ipython-input-113-22e207c9b726>\u001b[0m in \u001b[0;36m<module>\u001b[0;34m()\u001b[0m\n\u001b[1;32m     13\u001b[0m     \u001b[0mGamma_r\u001b[0m\u001b[1;33m[\u001b[0m\u001b[0mjrest\u001b[0m\u001b[1;33m]\u001b[0m\u001b[1;33m+=\u001b[0m \u001b[0mAlpha\u001b[0m\u001b[1;33m*\u001b[0m\u001b[1;33m(\u001b[0m\u001b[0mlogit\u001b[0m\u001b[1;33m(\u001b[0m\u001b[0mxuij\u001b[0m\u001b[1;33m)\u001b[0m\u001b[1;33m*\u001b[0m\u001b[1;33m(\u001b[0m\u001b[1;33m-\u001b[0m\u001b[0mGamma_u\u001b[0m\u001b[1;33m[\u001b[0m\u001b[0muser\u001b[0m\u001b[1;33m]\u001b[0m\u001b[1;33m)\u001b[0m \u001b[1;33m+\u001b[0m \u001b[0mLambda\u001b[0m\u001b[1;33m*\u001b[0m\u001b[0mGamma_r\u001b[0m\u001b[1;33m[\u001b[0m\u001b[0mjrest\u001b[0m\u001b[1;33m]\u001b[0m\u001b[1;33m)\u001b[0m\u001b[1;33m\u001b[0m\u001b[0m\n\u001b[1;32m     14\u001b[0m     \u001b[1;32mif\u001b[0m \u001b[0mi\u001b[0m\u001b[1;33m%\u001b[0m\u001b[1;36m100\u001b[0m \u001b[1;33m==\u001b[0m \u001b[1;36m0\u001b[0m\u001b[1;33m:\u001b[0m\u001b[1;33m\u001b[0m\u001b[0m\n\u001b[0;32m---> 15\u001b[0;31m         \u001b[1;32mprint\u001b[0m \u001b[0mloss\u001b[0m\u001b[1;33m(\u001b[0m\u001b[0mCUser\u001b[0m\u001b[1;33m,\u001b[0m\u001b[0mCirest\u001b[0m\u001b[1;33m,\u001b[0m\u001b[0mCjrest\u001b[0m\u001b[1;33m)\u001b[0m\u001b[1;33m\u001b[0m\u001b[0m\n\u001b[0m\u001b[1;32m     16\u001b[0m \u001b[1;33m\u001b[0m\u001b[0m\n",
      "\u001b[0;32m<ipython-input-112-5ecdc5263118>\u001b[0m in \u001b[0;36mloss\u001b[0;34m(CUser, Cirest, Cjrest)\u001b[0m\n\u001b[1;32m      7\u001b[0m         \u001b[1;32mfor\u001b[0m \u001b[0mirest\u001b[0m \u001b[1;32min\u001b[0m \u001b[0mCirest\u001b[0m\u001b[1;33m:\u001b[0m\u001b[1;33m\u001b[0m\u001b[0m\n\u001b[1;32m      8\u001b[0m             \u001b[1;32mfor\u001b[0m \u001b[0mjrest\u001b[0m \u001b[1;32min\u001b[0m \u001b[0mCjrest\u001b[0m\u001b[1;33m:\u001b[0m\u001b[1;33m\u001b[0m\u001b[0m\n\u001b[0;32m----> 9\u001b[0;31m                 \u001b[0mxuij\u001b[0m \u001b[1;33m=\u001b[0m \u001b[0mnp\u001b[0m\u001b[1;33m.\u001b[0m\u001b[0mdot\u001b[0m\u001b[1;33m(\u001b[0m\u001b[0mGamma_u\u001b[0m\u001b[1;33m[\u001b[0m\u001b[0muser\u001b[0m\u001b[1;33m]\u001b[0m\u001b[1;33m,\u001b[0m\u001b[0mGamma_r\u001b[0m\u001b[1;33m[\u001b[0m\u001b[0mirest\u001b[0m\u001b[1;33m]\u001b[0m\u001b[1;33m-\u001b[0m\u001b[0mGamma_r\u001b[0m\u001b[1;33m[\u001b[0m\u001b[0mjrest\u001b[0m\u001b[1;33m]\u001b[0m\u001b[1;33m)\u001b[0m\u001b[1;33m\u001b[0m\u001b[0m\n\u001b[0m\u001b[1;32m     10\u001b[0m                 \u001b[0msu\u001b[0m \u001b[1;33m+=\u001b[0m \u001b[0mnp\u001b[0m\u001b[1;33m.\u001b[0m\u001b[0mlog\u001b[0m\u001b[1;33m(\u001b[0m\u001b[0msigmoid\u001b[0m\u001b[1;33m(\u001b[0m\u001b[0mxuij\u001b[0m\u001b[1;33m)\u001b[0m\u001b[1;33m)\u001b[0m\u001b[1;33m\u001b[0m\u001b[0m\n\u001b[1;32m     11\u001b[0m     \u001b[1;32mfor\u001b[0m \u001b[0muser\u001b[0m \u001b[1;32min\u001b[0m \u001b[0mCUser\u001b[0m\u001b[1;33m:\u001b[0m\u001b[1;33m\u001b[0m\u001b[0m\n",
      "\u001b[0;31mKeyboardInterrupt\u001b[0m: "
     ]
    }
   ],
   "source": [
    "for i in range(iterations):\n",
    "    if i%10 == 0:\n",
    "        print i/10\n",
    "    user = random.choice(Iu.keys())\n",
    "    CUser.append(user)\n",
    "    irest = random.choice(Iu[user])\n",
    "    Cirest.append(irest)\n",
    "    jrest = random.choice(list(AllRestSet - set(Iu[user])))\n",
    "    Cjrest.append(jrest)\n",
    "    xuij = np.dot(Gamma_u[user],Gamma_r[irest]-Gamma_r[jrest])\n",
    "    Gamma_u[user] += Alpha*(logit(xuij)*(Gamma_r[irest]-Gamma_r[jrest]) + Lambda*Gamma_u[user])\n",
    "    Gamma_r[irest]+= Alpha*(logit(xuij)*(Gamma_u[user]) + Lambda*Gamma_r[irest])\n",
    "    Gamma_r[jrest]+= Alpha*(logit(xuij)*(-Gamma_u[user]) + Lambda*Gamma_r[jrest])\n",
    "    if i%100 == 0:\n",
    "        print loss(CUser,Cirest,Cjrest)\n",
    "    "
   ]
  },
  {
   "cell_type": "code",
   "execution_count": null,
   "metadata": {
    "collapsed": true
   },
   "outputs": [],
   "source": []
  },
  {
   "cell_type": "code",
   "execution_count": 5,
   "metadata": {
    "collapsed": false
   },
   "outputs": [
    {
     "name": "stdout",
     "output_type": "stream",
     "text": [
      "The dataset has 144072 businesses\n"
     ]
    }
   ],
   "source": [
    "print(\"The dataset has {} businesses\".format(len(data)))"
   ]
  },
  {
   "cell_type": "code",
   "execution_count": 6,
   "metadata": {
    "collapsed": false
   },
   "outputs": [
    {
     "data": {
      "text/plain": [
       "{u'address': u'1500 N Green Valley Pkwy, Ste 230',\n",
       " u'attributes': [u'Alcohol: none',\n",
       "  u\"Ambience: {'romantic': False, 'intimate': False, 'classy': False, 'hipster': False, 'divey': False, 'touristy': False, 'trendy': False, 'upscale': False, 'casual': True}\",\n",
       "  u'BusinessAcceptsCreditCards: True',\n",
       "  u\"BusinessParking: {'garage': False, 'street': False, 'validated': False, 'lot': True, 'valet': False}\",\n",
       "  u'Caters: True',\n",
       "  u'GoodForKids: True',\n",
       "  u\"GoodForMeal: {'dessert': False, 'latenight': False, 'lunch': True, 'dinner': True, 'breakfast': False, 'brunch': False}\",\n",
       "  u'HasTV: True',\n",
       "  u'NoiseLevel: quiet',\n",
       "  u'OutdoorSeating: False',\n",
       "  u'RestaurantsAttire: casual',\n",
       "  u'RestaurantsDelivery: False',\n",
       "  u'RestaurantsGoodForGroups: True',\n",
       "  u'RestaurantsPriceRange2: 1',\n",
       "  u'RestaurantsReservations: False',\n",
       "  u'RestaurantsTableService: False',\n",
       "  u'RestaurantsTakeOut: True',\n",
       "  u'WiFi: no'],\n",
       " u'business_id': u'42romV8altAeuZuP2OC1gw',\n",
       " u'categories': [u'Hawaiian', u'Restaurants', u'Barbeque'],\n",
       " u'city': u'Henderson',\n",
       " u'hours': [u'Monday 11:0-21:30',\n",
       "  u'Tuesday 11:0-21:30',\n",
       "  u'Wednesday 11:0-21:30',\n",
       "  u'Thursday 11:0-21:30',\n",
       "  u'Friday 11:0-21:30',\n",
       "  u'Saturday 11:0-21:30',\n",
       "  u'Sunday 11:30-21:0'],\n",
       " u'is_open': 0,\n",
       " u'latitude': 36.029596485,\n",
       " u'longitude': -115.085821152,\n",
       " u'name': u'Ohana Hawaiian BBQ',\n",
       " u'neighborhood': u'',\n",
       " u'postal_code': u'89074',\n",
       " u'review_count': 38,\n",
       " u'stars': 4.0,\n",
       " u'state': u'NV',\n",
       " u'type': u'business'}"
      ]
     },
     "execution_count": 6,
     "metadata": {},
     "output_type": "execute_result"
    }
   ],
   "source": [
    "data[11]"
   ]
  },
  {
   "cell_type": "markdown",
   "metadata": {},
   "source": [
    "### Restaurant Data preprocessing\n",
    "\n",
    "#### We only want restaurant data. Yelp data is clean, in the sense that every business which is a restaurant, has a restaurant category at the least. Bakeries or sometime coffee places are not tagged restaurant, which is acceptable"
   ]
  },
  {
   "cell_type": "code",
   "execution_count": 7,
   "metadata": {
    "collapsed": false
   },
   "outputs": [],
   "source": [
    "restaurant_data = []\n",
    "restaurant_id_set = set()   #set of ids of business = restaurant useful for processing of other json files\n",
    "for business in data:\n",
    "    if business[\"categories\"]!= None and \"Restaurants\" in business[\"categories\"]:\n",
    "        restaurant_data.append(business)\n",
    "        restaurant_id_set.add(business[\"business_id\"])\n",
    "        "
   ]
  },
  {
   "cell_type": "code",
   "execution_count": 8,
   "metadata": {
    "collapsed": false
   },
   "outputs": [
    {
     "name": "stdout",
     "output_type": "stream",
     "text": [
      "The number of businesses which are just restaurants is 48485\n"
     ]
    }
   ],
   "source": [
    "print(\"The number of businesses which are just restaurants is {}\".format(len(restaurant_data)))"
   ]
  },
  {
   "cell_type": "code",
   "execution_count": 9,
   "metadata": {
    "collapsed": false
   },
   "outputs": [],
   "source": [
    "with open('yelp_restaurant_data.json', 'w') as outfile:\n",
    "    json.dump(restaurant_data, outfile)\n"
   ]
  },
  {
   "cell_type": "markdown",
   "metadata": {},
   "source": [
    "### User review data processing\n",
    "#### Choose only those reviews pertaining to restaurants and store the reduced set of reviews"
   ]
  },
  {
   "cell_type": "code",
   "execution_count": 10,
   "metadata": {
    "collapsed": false
   },
   "outputs": [],
   "source": [
    "yelp_user_review_data = []\n",
    "with open(\"data/yelp_academic_dataset_review.json\", \"U\") as f:\n",
    "    for line in f:\n",
    "        review = json.loads(line)\n",
    "        if review[\"business_id\"] in restaurant_id_set:\n",
    "            yelp_user_review_data.append(review)"
   ]
  },
  {
   "cell_type": "code",
   "execution_count": 11,
   "metadata": {
    "collapsed": false
   },
   "outputs": [
    {
     "name": "stdout",
     "output_type": "stream",
     "text": [
      "Number of user reviews pertaining to restaurants is 2577298\n"
     ]
    }
   ],
   "source": [
    "print(\"Number of user reviews pertaining to restaurants is {}\".format(len(yelp_user_review_data)))"
   ]
  },
  {
   "cell_type": "code",
   "execution_count": 12,
   "metadata": {
    "collapsed": true
   },
   "outputs": [],
   "source": [
    "with open('yelp_user_review_data.json', 'w') as outfile:\n",
    "    json.dump(yelp_user_review_data, outfile)"
   ]
  },
  {
   "cell_type": "code",
   "execution_count": 13,
   "metadata": {
    "collapsed": true
   },
   "outputs": [],
   "source": [
    "f.close()\n",
    "outfile.close()"
   ]
  },
  {
   "cell_type": "code",
   "execution_count": 15,
   "metadata": {
    "collapsed": false
   },
   "outputs": [
    {
     "data": {
      "text/plain": [
       "{u'business_id': u'4P-vTvE6cncJyUyLh73pxw',\n",
       " u'cool': 0,\n",
       " u'date': u'2014-03-29',\n",
       " u'funny': 0,\n",
       " u'review_id': u'6-hKBi-6RC3g7Mft0c-6qw',\n",
       " u'stars': 4,\n",
       " u'text': u'This place is a area staple! Been around for years and not much has changed - I see this as a good thing! Stable and reliable!\\n\\nMy family goes every year for St. Pattys Day corn beef! Very nice place for a bar night dinner, or to catch up with some friends over drinks!',\n",
       " u'type': u'review',\n",
       " u'useful': 0,\n",
       " u'user_id': u'PmgqNO0-5Y3e3UoR61TD7w'}"
      ]
     },
     "execution_count": 15,
     "metadata": {},
     "output_type": "execute_result"
    }
   ],
   "source": [
    "yelp_user_review_data[0]"
   ]
  },
  {
   "cell_type": "code",
   "execution_count": 19,
   "metadata": {
    "collapsed": true
   },
   "outputs": [],
   "source": [
    "I_u = {}\n",
    "U_i = {}"
   ]
  },
  {
   "cell_type": "code",
   "execution_count": 52,
   "metadata": {
    "collapsed": true
   },
   "outputs": [],
   "source": [
    "cutoff= 400000"
   ]
  },
  {
   "cell_type": "code",
   "execution_count": 57,
   "metadata": {
    "collapsed": true
   },
   "outputs": [],
   "source": [
    "for datum in yelp_user_review_data:\n",
    "    if I_u.has_key(datum['business_id']):\n",
    "        I_u[datum['business_id']].append(datum['stars'])\n",
    "    else:\n",
    "        I_u[datum['business_id']] = [datum['stars']]\n",
    "    if U_i.has_key(datum['user_id']):\n",
    "        U_i[datum['user_id']].append(datum['stars'])\n",
    "    else:\n",
    "        U_i[datum['user_id']] = [datum['stars']]\n",
    "    "
   ]
  },
  {
   "cell_type": "code",
   "execution_count": 58,
   "metadata": {
    "collapsed": false
   },
   "outputs": [
    {
     "data": {
      "text/plain": [
       "92"
      ]
     },
     "execution_count": 58,
     "metadata": {},
     "output_type": "execute_result"
    }
   ],
   "source": [
    "len(I_u['4P-vTvE6cncJyUyLh73pxw'])"
   ]
  },
  {
   "cell_type": "code",
   "execution_count": 96,
   "metadata": {
    "collapsed": true
   },
   "outputs": [],
   "source": [
    "thresh = 10"
   ]
  },
  {
   "cell_type": "code",
   "execution_count": 97,
   "metadata": {
    "collapsed": false
   },
   "outputs": [],
   "source": [
    "len_u = []\n",
    "len_i = []\n",
    "for k in I_u.keys():\n",
    "    if len(I_u[k]) > thresh:\n",
    "        len_i.append(len(I_u[k]))\n",
    "for k in U_i.keys():\n",
    "    if len(U_i[k]) > thresh:\n",
    "        len_u.append(len(U_i[k]))\n",
    "    "
   ]
  },
  {
   "cell_type": "code",
   "execution_count": 105,
   "metadata": {
    "collapsed": true
   },
   "outputs": [],
   "source": [
    "import numpy\n",
    "avg_u = []\n",
    "avg_i = []\n",
    "for k in I_u.keys():\n",
    "    if len(I_u[k]) > thresh:\n",
    "        avg_i.append(numpy.mean(I_u[k]))\n",
    "for k in U_i.keys():\n",
    "    if len(U_i[k]) > thresh:\n",
    "        avg_u.append(numpy.mean(U_i[k]))\n",
    "    "
   ]
  },
  {
   "cell_type": "code",
   "execution_count": 92,
   "metadata": {
    "collapsed": true
   },
   "outputs": [],
   "source": [
    "len_u = []\n",
    "len_i = []\n",
    "for k in I_u.keys():\n",
    "    len_i.append(len(I_u[k]))\n",
    "for k in U_i.keys():\n",
    "    len_u.append(len(U_i[k]))\n",
    "    "
   ]
  },
  {
   "cell_type": "code",
   "execution_count": 98,
   "metadata": {
    "collapsed": false
   },
   "outputs": [],
   "source": [
    "len_u.sort()\n",
    "len_u = len_u[:int(len(len_u)*0.99)]"
   ]
  },
  {
   "cell_type": "code",
   "execution_count": 103,
   "metadata": {
    "collapsed": false
   },
   "outputs": [],
   "source": [
    "len_i.sort()\n",
    "len_i = len_i[:int(len(len_i)*0.99)]"
   ]
  },
  {
   "cell_type": "markdown",
   "metadata": {},
   "source": [
    "I_u[I_u.keys()[0]]"
   ]
  },
  {
   "cell_type": "markdown",
   "metadata": {},
   "source": [
    "len(len_i)"
   ]
  },
  {
   "cell_type": "markdown",
   "metadata": {},
   "source": [
    "count = 0\n",
    "for i in len_i:\n",
    "    if i > 10:\n",
    "        count +=1\n",
    "print(count)"
   ]
  },
  {
   "cell_type": "code",
   "execution_count": 104,
   "metadata": {
    "collapsed": false
   },
   "outputs": [
    {
     "data": {
      "image/png": "[encoded data removed]",
      "text/plain": [
       "<matplotlib.figure.Figure at 0x29dd78320>"
      ]
     },
     "metadata": {},
     "output_type": "display_data"
    }
   ],
   "source": [
    "import matplotlib.pyplot as plt\n",
    "\n",
    "plt.hist(len_i,bins=200)\n",
    "plt.show()"
   ]
  },
  {
   "cell_type": "code",
   "execution_count": 102,
   "metadata": {
    "collapsed": false,
    "scrolled": true
   },
   "outputs": [
    {
     "data": {
      "image/png": "[encoded data removed]",
      "text/plain": [
       "<matplotlib.figure.Figure at 0x29d987748>"
      ]
     },
     "metadata": {},
     "output_type": "display_data"
    }
   ],
   "source": [
    "plt.hist(len_u,bins=200)\n",
    "plt.show()"
   ]
  },
  {
   "cell_type": "code",
   "execution_count": 106,
   "metadata": {
    "collapsed": false
   },
   "outputs": [
    {
     "data": {
      "image/png": "[encoded data removed]",
      "text/plain": [
       "<matplotlib.figure.Figure at 0x29dd6bf60>"
      ]
     },
     "metadata": {},
     "output_type": "display_data"
    }
   ],
   "source": [
    "plt.hist(avg_u)\n",
    "plt.show()"
   ]
  },
  {
   "cell_type": "code",
   "execution_count": 107,
   "metadata": {
    "collapsed": false,
    "scrolled": true
   },
   "outputs": [
    {
     "data": {
      "image/png": "[encoded data removed]",
      "text/plain": [
       "<matplotlib.figure.Figure at 0x29d987cc0>"
      ]
     },
     "metadata": {},
     "output_type": "display_data"
    }
   ],
   "source": [
    "plt.hist(avg_i)\n",
    "plt.show()"
   ]
  },
  {
   "cell_type": "code",
   "execution_count": 124,
   "metadata": {
    "collapsed": false
   },
   "outputs": [],
   "source": [
    "latitudes = [[],[],[],[]]\n",
    "longitudes = [[],[],[],[]]\n",
    "for datum in restaurant_data:\n",
    "    if datum['stars'] == 5:\n",
    "        latitudes[-1].append(datum['latitude'])\n",
    "        longitudes[-1].append(datum['longitude']) \n",
    "    else:\n",
    "        latitudes[int(datum['stars'])-1].append(datum['latitude'])\n",
    "        longitudes[int(datum['stars'])-1].append(datum['longitude'])"
   ]
  },
  {
   "cell_type": "code",
   "execution_count": 114,
   "metadata": {
    "collapsed": false
   },
   "outputs": [
    {
     "data": {
      "text/plain": [
       "43.661054"
      ]
     },
     "execution_count": 114,
     "metadata": {},
     "output_type": "execute_result"
    }
   ],
   "source": [
    "latitudes[0]"
   ]
  },
  {
   "cell_type": "code",
   "execution_count": 126,
   "metadata": {
    "collapsed": false
   },
   "outputs": [],
   "source": [
    "import gmplot\n",
    "\n",
    "gmap = gmplot.GoogleMapPlotter(37.428, -122.145, 16)\n",
    "\n",
    "# gmap.plot(latitudes, longitudes, 'cornflowerblue', edge_width=10)\n",
    "# gmap.scatter(more_lats, more_lngs, '#3B0B39', size=40, marker=False)\n",
    "# gmap.scatter(marker_lats, marker_lngs, 'k', marker=True)\n",
    "# gmap.heatmap(latitudes, longitudes)\n",
    "\n",
    "gmap.scatter(latitudes[0], longitudes[0],'#c41d00', size=40, marker=False)\n",
    "gmap.scatter(latitudes[1], longitudes[1],'#fc9a10', size=40, marker=False)\n",
    "gmap.scatter(latitudes[2], longitudes[2],'#fcf811', size=40, marker=False)\n",
    "gmap.scatter(latitudes[3], longitudes[3],'#008712', size=40, marker=False)\n",
    "# gmap.scatter(latitudes[4], longitudes[4],'#11ff31', size=40, marker=False)\n",
    "\n",
    "gmap.draw(\"mymap.html\")"
   ]
  },
  {
   "cell_type": "markdown",
   "metadata": {},
   "source": [
    "### User data processing\n",
    "#### the user.json file has many attributes for each JSON object which are not relevant to our task. These are removed and a new json file is created\n",
    "\n",
    "#### The attributes retained has the review_count and the average_stars which is across all Yelp business. We can get the right count from the restaurant review data specifically.\n",
    "#### We only want the users who have written atleast one review (i.e. gone to one restaurant at the least). This removes the cold-start problem for now"
   ]
  },
  {
   "cell_type": "code",
   "execution_count": 14,
   "metadata": {
    "collapsed": false
   },
   "outputs": [
    {
     "name": "stderr",
     "output_type": "stream",
     "text": [
      "ERROR:root:Internal Python error in the inspect module.\n",
      "Below is the traceback from this internal error.\n",
      "\n"
     ]
    },
    {
     "name": "stdout",
     "output_type": "stream",
     "text": [
      "Traceback (most recent call last):\n",
      "  File \"C:\\Users\\saicharan\\Anaconda3\\envs\\py27\\lib\\site-packages\\IPython\\core\\ultratb.py\", line 1132, in get_records\n",
      "    return _fixed_getinnerframes(etb, number_of_lines_of_context, tb_offset)\n",
      "  File \"C:\\Users\\saicharan\\Anaconda3\\envs\\py27\\lib\\site-packages\\IPython\\core\\ultratb.py\", line 313, in wrapped\n",
      "    return f(*args, **kwargs)\n",
      "  File \"C:\\Users\\saicharan\\Anaconda3\\envs\\py27\\lib\\site-packages\\IPython\\core\\ultratb.py\", line 358, in _fixed_getinnerframes\n",
      "    records = fix_frame_records_filenames(inspect.getinnerframes(etb, context))\n",
      "  File \"C:\\Users\\saicharan\\Anaconda3\\envs\\py27\\lib\\inspect.py\", line 1048, in getinnerframes\n",
      "    framelist.append((tb.tb_frame,) + getframeinfo(tb, context))\n",
      "  File \"C:\\Users\\saicharan\\Anaconda3\\envs\\py27\\lib\\inspect.py\", line 1008, in getframeinfo\n",
      "    filename = getsourcefile(frame) or getfile(frame)\n",
      "  File \"C:\\Users\\saicharan\\Anaconda3\\envs\\py27\\lib\\inspect.py\", line 453, in getsourcefile\n",
      "    if hasattr(getmodule(object, filename), '__loader__'):\n",
      "  File \"C:\\Users\\saicharan\\Anaconda3\\envs\\py27\\lib\\inspect.py\", line 496, in getmodule\n",
      "    f = getabsfile(module)\n",
      "  File \"C:\\Users\\saicharan\\Anaconda3\\envs\\py27\\lib\\inspect.py\", line 465, in getabsfile\n",
      "    _filename = getsourcefile(object) or getfile(object)\n",
      "  File \"C:\\Users\\saicharan\\Anaconda3\\envs\\py27\\lib\\inspect.py\", line 450, in getsourcefile\n",
      "    if os.path.exists(filename):\n",
      "  File \"C:\\Users\\saicharan\\Anaconda3\\envs\\py27\\lib\\genericpath.py\", line 26, in exists\n",
      "    os.stat(path)\n",
      "KeyboardInterrupt\n"
     ]
    },
    {
     "ename": "IndexError",
     "evalue": "string index out of range",
     "output_type": "error",
     "traceback": [
      "\u001b[0;31m---------------------------------------------------------------------------\u001b[0m",
      "\u001b[0;31mIndexError\u001b[0m                                Traceback (most recent call last)",
      "\u001b[0;32mC:\\Users\\saicharan\\Anaconda3\\envs\\py27\\lib\\site-packages\\IPython\\core\\interactiveshell.pyc\u001b[0m in \u001b[0;36mrun_code\u001b[0;34m(self, code_obj, result)\u001b[0m\n\u001b[1;32m   2896\u001b[0m             \u001b[1;32mif\u001b[0m \u001b[0mresult\u001b[0m \u001b[1;32mis\u001b[0m \u001b[1;32mnot\u001b[0m \u001b[0mNone\u001b[0m\u001b[1;33m:\u001b[0m\u001b[1;33m\u001b[0m\u001b[0m\n\u001b[1;32m   2897\u001b[0m                 \u001b[0mresult\u001b[0m\u001b[1;33m.\u001b[0m\u001b[0merror_in_exec\u001b[0m \u001b[1;33m=\u001b[0m \u001b[0msys\u001b[0m\u001b[1;33m.\u001b[0m\u001b[0mexc_info\u001b[0m\u001b[1;33m(\u001b[0m\u001b[1;33m)\u001b[0m\u001b[1;33m[\u001b[0m\u001b[1;36m1\u001b[0m\u001b[1;33m]\u001b[0m\u001b[1;33m\u001b[0m\u001b[0m\n\u001b[0;32m-> 2898\u001b[0;31m             \u001b[0mself\u001b[0m\u001b[1;33m.\u001b[0m\u001b[0mshowtraceback\u001b[0m\u001b[1;33m(\u001b[0m\u001b[1;33m)\u001b[0m\u001b[1;33m\u001b[0m\u001b[0m\n\u001b[0m\u001b[1;32m   2899\u001b[0m         \u001b[1;32melse\u001b[0m\u001b[1;33m:\u001b[0m\u001b[1;33m\u001b[0m\u001b[0m\n\u001b[1;32m   2900\u001b[0m             \u001b[0moutflag\u001b[0m \u001b[1;33m=\u001b[0m \u001b[1;36m0\u001b[0m\u001b[1;33m\u001b[0m\u001b[0m\n",
      "\u001b[0;32mC:\\Users\\saicharan\\Anaconda3\\envs\\py27\\lib\\site-packages\\IPython\\core\\interactiveshell.pyc\u001b[0m in \u001b[0;36mshowtraceback\u001b[0;34m(self, exc_tuple, filename, tb_offset, exception_only)\u001b[0m\n\u001b[1;32m   1822\u001b[0m                     \u001b[1;32mexcept\u001b[0m \u001b[0mException\u001b[0m\u001b[1;33m:\u001b[0m\u001b[1;33m\u001b[0m\u001b[0m\n\u001b[1;32m   1823\u001b[0m                         stb = self.InteractiveTB.structured_traceback(etype,\n\u001b[0;32m-> 1824\u001b[0;31m                                             value, tb, tb_offset=tb_offset)\n\u001b[0m\u001b[1;32m   1825\u001b[0m \u001b[1;33m\u001b[0m\u001b[0m\n\u001b[1;32m   1826\u001b[0m                     \u001b[0mself\u001b[0m\u001b[1;33m.\u001b[0m\u001b[0m_showtraceback\u001b[0m\u001b[1;33m(\u001b[0m\u001b[0metype\u001b[0m\u001b[1;33m,\u001b[0m \u001b[0mvalue\u001b[0m\u001b[1;33m,\u001b[0m \u001b[0mstb\u001b[0m\u001b[1;33m)\u001b[0m\u001b[1;33m\u001b[0m\u001b[0m\n",
      "\u001b[0;32mC:\\Users\\saicharan\\Anaconda3\\envs\\py27\\lib\\site-packages\\IPython\\core\\ultratb.pyc\u001b[0m in \u001b[0;36mstructured_traceback\u001b[0;34m(self, etype, value, tb, tb_offset, number_of_lines_of_context)\u001b[0m\n\u001b[1;32m   1404\u001b[0m         \u001b[0mself\u001b[0m\u001b[1;33m.\u001b[0m\u001b[0mtb\u001b[0m \u001b[1;33m=\u001b[0m \u001b[0mtb\u001b[0m\u001b[1;33m\u001b[0m\u001b[0m\n\u001b[1;32m   1405\u001b[0m         return FormattedTB.structured_traceback(\n\u001b[0;32m-> 1406\u001b[0;31m             self, etype, value, tb, tb_offset, number_of_lines_of_context)\n\u001b[0m\u001b[1;32m   1407\u001b[0m \u001b[1;33m\u001b[0m\u001b[0m\n\u001b[1;32m   1408\u001b[0m \u001b[1;33m\u001b[0m\u001b[0m\n",
      "\u001b[0;32mC:\\Users\\saicharan\\Anaconda3\\envs\\py27\\lib\\site-packages\\IPython\\core\\ultratb.pyc\u001b[0m in \u001b[0;36mstructured_traceback\u001b[0;34m(self, etype, value, tb, tb_offset, number_of_lines_of_context)\u001b[0m\n\u001b[1;32m   1312\u001b[0m             \u001b[1;31m# Verbose modes need a full traceback\u001b[0m\u001b[1;33m\u001b[0m\u001b[1;33m\u001b[0m\u001b[0m\n\u001b[1;32m   1313\u001b[0m             return VerboseTB.structured_traceback(\n\u001b[0;32m-> 1314\u001b[0;31m                 \u001b[0mself\u001b[0m\u001b[1;33m,\u001b[0m \u001b[0metype\u001b[0m\u001b[1;33m,\u001b[0m \u001b[0mvalue\u001b[0m\u001b[1;33m,\u001b[0m \u001b[0mtb\u001b[0m\u001b[1;33m,\u001b[0m \u001b[0mtb_offset\u001b[0m\u001b[1;33m,\u001b[0m \u001b[0mnumber_of_lines_of_context\u001b[0m\u001b[1;33m\u001b[0m\u001b[0m\n\u001b[0m\u001b[1;32m   1315\u001b[0m             )\n\u001b[1;32m   1316\u001b[0m         \u001b[1;32melse\u001b[0m\u001b[1;33m:\u001b[0m\u001b[1;33m\u001b[0m\u001b[0m\n",
      "\u001b[0;32mC:\\Users\\saicharan\\Anaconda3\\envs\\py27\\lib\\site-packages\\IPython\\core\\ultratb.pyc\u001b[0m in \u001b[0;36mstructured_traceback\u001b[0;34m(self, etype, evalue, etb, tb_offset, number_of_lines_of_context)\u001b[0m\n\u001b[1;32m   1196\u001b[0m                 \u001b[0mstructured_traceback_parts\u001b[0m \u001b[1;33m+=\u001b[0m \u001b[0mformatted_exception\u001b[0m\u001b[1;33m\u001b[0m\u001b[0m\n\u001b[1;32m   1197\u001b[0m         \u001b[1;32melse\u001b[0m\u001b[1;33m:\u001b[0m\u001b[1;33m\u001b[0m\u001b[0m\n\u001b[0;32m-> 1198\u001b[0;31m             \u001b[0mstructured_traceback_parts\u001b[0m \u001b[1;33m+=\u001b[0m \u001b[0mformatted_exception\u001b[0m\u001b[1;33m[\u001b[0m\u001b[1;36m0\u001b[0m\u001b[1;33m]\u001b[0m\u001b[1;33m\u001b[0m\u001b[0m\n\u001b[0m\u001b[1;32m   1199\u001b[0m \u001b[1;33m\u001b[0m\u001b[0m\n\u001b[1;32m   1200\u001b[0m         \u001b[1;32mreturn\u001b[0m \u001b[0mstructured_traceback_parts\u001b[0m\u001b[1;33m\u001b[0m\u001b[0m\n",
      "\u001b[0;31mIndexError\u001b[0m: string index out of range"
     ]
    }
   ],
   "source": [
    "yelp_user_data = []\n",
    "keep_property_arr= [\"user_id\",\"name\",\"yelping_since\",\"review_count\", \"average_stars\",\"fans\"]  #these are the attributes to keep\n",
    "\n",
    "with open(\"data/yelp_academic_dataset_user.json\", \"U\") as f:\n",
    "    for line in f:\n",
    "        user = json.loads(line)\n",
    "        user_jsobobj = dict()\n",
    "        for property in keep_property_arr:\n",
    "            user_jsobobj[property] = user[property]\n",
    "        yelp_user_data.append(user_jsobobj)\n",
    "        "
   ]
  },
  {
   "cell_type": "code",
   "execution_count": null,
   "metadata": {
    "collapsed": false
   },
   "outputs": [],
   "source": [
    "yelp_user_data[100]"
   ]
  },
  {
   "cell_type": "code",
   "execution_count": null,
   "metadata": {
    "collapsed": false
   },
   "outputs": [],
   "source": [
    "len(yelp_user_data)"
   ]
  },
  {
   "cell_type": "code",
   "execution_count": null,
   "metadata": {
    "collapsed": false
   },
   "outputs": [],
   "source": [
    "with open('yelp_user_data.json', 'w') as outfile:\n",
    "    json.dump(yelp_user_data, outfile)\n",
    "    print(\"File {} written\".format(\"yelp_user_data.json\"))\n",
    "    outfile.close()\n",
    "    f.close()"
   ]
  }
 ],
 "metadata": {
  "kernelspec": {
   "display_name": "Python 2",
   "language": "python",
   "name": "python2"
  },
  "language_info": {
   "codemirror_mode": {
    "name": "ipython",
    "version": 2
   },
   "file_extension": ".py",
   "mimetype": "text/x-python",
   "name": "python",
   "nbconvert_exporter": "python",
   "pygments_lexer": "ipython2",
   "version": "2.7.13"
  }
 },
 "nbformat": 4,
 "nbformat_minor": 2
}
